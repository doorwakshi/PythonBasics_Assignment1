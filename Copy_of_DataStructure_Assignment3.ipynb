{
  "nbformat": 4,
  "nbformat_minor": 0,
  "metadata": {
    "colab": {
      "provenance": [],
      "authorship_tag": "ABX9TyMtkGPPto7Gb9T6frqYkaos",
      "include_colab_link": true
    },
    "kernelspec": {
      "name": "python3",
      "display_name": "Python 3"
    },
    "language_info": {
      "name": "python"
    }
  },
  "cells": [
    {
      "cell_type": "markdown",
      "metadata": {
        "id": "view-in-github",
        "colab_type": "text"
      },
      "source": [
        "<a href=\"https://colab.research.google.com/github/doorwakshi/PythonBasics_Assignment1/blob/main/Copy_of_DataStructure_Assignment3.ipynb\" target=\"_parent\"><img src=\"https://colab.research.google.com/assets/colab-badge.svg\" alt=\"Open In Colab\"/></a>"
      ]
    },
    {
      "cell_type": "code",
      "execution_count": null,
      "metadata": {
        "id": "dJVrSZCSlgGi"
      },
      "outputs": [],
      "source": [
        "1. What are data structures, and why are they important?\n",
        "\n",
        "Ans: Data structures are ways to organize, store, and manage data efficiently for operations such as searching, sorting, and manipulation. They are important because they help optimize performance and memory usage in software applications."
      ]
    },
    {
      "cell_type": "markdown",
      "source": [
        "2. Explain the difference between mutable and immutable data types with examples.\n",
        "\n",
        "Ans: Mutable data types can be changed after creation, whereas immutable data types cannot be modified."
      ],
      "metadata": {
        "id": "G-Mr3pljlhqw"
      }
    },
    {
      "cell_type": "code",
      "source": [
        "# Mutable Example: List\n",
        "my_list = [1, 2, 3]\n",
        "my_list.append(4)  # List is modified\n",
        "print(my_list)  # Output: [1, 2, 3, 4]\n",
        "\n",
        "# Immutable Example: String\n",
        "my_str = \"Hello\"\n",
        "# my_str[0] = \"h\"  # This will cause an error because strings are immutable\n",
        "my_str = \"hello\"  # Creating a new string instead\n",
        "print(my_str)  # Output: hello"
      ],
      "metadata": {
        "id": "qd4g3viLnjj6",
        "outputId": "6aacba66-40b0-48bd-e45a-256939ba90b6",
        "colab": {
          "base_uri": "https://localhost:8080/"
        }
      },
      "execution_count": null,
      "outputs": [
        {
          "output_type": "stream",
          "name": "stdout",
          "text": [
            "[1, 2, 3, 4]\n",
            "hello\n"
          ]
        }
      ]
    },
    {
      "cell_type": "markdown",
      "source": [
        "3. What are the main differences between lists and tuples in Python?\n",
        "\n",
        "Ans: Lists are mutable, while tuples are immutable.\n",
        "\n",
        "Lists have dynamic size and can be modified, whereas tuples have a fixed size.\n",
        "\n",
        "Tuples are faster and consume less memory than lists due to immutability.\n",
        "\n",
        "Syntax difference: list = [1, 2, 3], tuple = (1, 2, 3)."
      ],
      "metadata": {
        "id": "ce_4fDmClh6O"
      }
    },
    {
      "cell_type": "markdown",
      "source": [],
      "metadata": {
        "id": "3uULzuM4liDt"
      }
    },
    {
      "cell_type": "markdown",
      "source": [
        "4. Describe how dictionaries store data.\n",
        "\n",
        "Ans: Dictionaries store data in key-value pairs using a hash table. Keys are hashed to unique memory locations, allowing fast lookups, additions, and deletions."
      ],
      "metadata": {
        "id": "E8DCfbg1liL2"
      }
    },
    {
      "cell_type": "markdown",
      "source": [
        "5. Why might you use a set instead of a list in Python?\n",
        "\n",
        "Ans:Sets automatically remove duplicate values.\n",
        "\n",
        "Faster lookup (O(1) vs. O(n) in lists).\n",
        "\n",
        "Mathematical operations like union, intersection, and difference are easy.\n",
        "\n",
        "\n",
        "6. What is a string in Python, and how is it different from a list?\n",
        "\n",
        "Ans:A string is a sequence of characters, whereas a list is a collection of any data type.\n",
        "\n",
        "Strings are immutable, while lists are mutable.\n",
        "\n",
        "Strings support limited modifications, but lists allow insertion, deletion, and replacement.\n",
        "\n",
        "\n",
        "7. How do tuples ensure data integrity in Python?\n",
        "\n",
        "Ans: Tuples are immutable, meaning data cannot be changed accidentally. This ensures data remains consistent and secure in applications.\n",
        "\n",
        "8. What is a hash table, and how does it relate to dictionaries in Python?\n",
        "\n",
        "Ans: A hash table is a data structure that stores key-value pairs by hashing keys. Python dictionaries use hash tables internally, allowing quick retrieval (O(1) time complexity).\n",
        "\n",
        "9. Can lists contain different data types in Python?\n",
        "\n",
        "Ans: Yes, lists can contain mixed data types, including numbers, strings, and other objects.\n",
        "Example:\n",
        "\n",
        "my_list = [1, \"hello\", 3.14, [2, 3]]\n",
        "\n",
        "10. Explain why strings are immutable in Python.\n",
        "\n",
        "Ans: Strings are immutable to improve performance and security, as multiple references can share the same string object without risk of accidental modification.\n",
        "\n",
        "11. What advantages do dictionaries offer over lists for certain tasks?\n",
        "\n",
        "Ans:Faster lookups (O(1) vs. O(n)).\n",
        "\n",
        "Key-value mapping makes data organization more intuitive.\n",
        "\n",
        "Efficient data retrieval without searching through indices.\n",
        "\n",
        "\n",
        "12. Describe a scenario where using a tuple would be preferable over a list.\n",
        "\n",
        "Ans: Storing coordinates (x, y), database records, or constant values where immutability ensures data integrity.\n",
        "Example:\n",
        "\n",
        "location = (28.7041, 77.1025)  # Latitude and longitude\n",
        "\n",
        "13. How do sets handle duplicate values in Python?\n",
        "\n",
        "Ans: Sets automatically remove duplicate values and store only unique elements.\n",
        "\n",
        "14. How does the \"in\" keyword work differently for lists and dictionaries?\n",
        "\n",
        "Ans:In lists, in checks for the presence of a value (O(n) time complexity).\n",
        "\n",
        "In dictionaries, in checks for keys (O(1) time complexity).\n",
        "\n",
        "\n",
        "15. Can you modify the elements of a tuple? Explain why or why not.\n",
        "\n",
        "Ans: No, tuples are immutable; once created, elements cannot be modified, ensuring data consistency."
      ],
      "metadata": {
        "id": "RdNwBr84liux"
      }
    },
    {
      "cell_type": "markdown",
      "source": [
        "16. What is a nested dictionary, and give an example of its use case?\n",
        "\n",
        "Ans: A nested dictionary is a dictionary containing another dictionary as a value. It is useful for storing structured data like student records.\n",
        "Example:"
      ],
      "metadata": {
        "id": "DggvrC8bliUO"
      }
    },
    {
      "cell_type": "code",
      "source": [
        "students = {\n",
        "    \"Alice\": {\"age\": 20, \"grade\": \"A\"},\n",
        "    \"Bob\": {\"age\": 22, \"grade\": \"B\"}\n",
        "}"
      ],
      "metadata": {
        "id": "_LyVUXcunCUF"
      },
      "execution_count": null,
      "outputs": []
    },
    {
      "cell_type": "markdown",
      "source": [
        "17. Describe the time complexity of accessing elements in a dictionary.\n",
        "\n",
        "Ans: Dictionary access is O(1) (constant time) due to hash table implementation.\n",
        "\n",
        "18. In what situations are lists preferred over dictionaries?\n",
        "\n",
        "Ans: When order matters (lists maintain order).\n",
        "\n",
        "When working with sequential data.\n",
        "\n",
        "When key-value mapping is not required.\n",
        "\n",
        "\n",
        "19. Why are dictionaries considered unordered, and how does that affect data retrieval?\n",
        "\n",
        "Ans: Before Python 3.7, dictionaries were unordered because they used hash tables. Since Python 3.7+, dictionaries maintain insertion order but still allow fast key-based retrieval rather than indexing like lists.\n",
        "\n",
        "20. Explain the difference between a list and a dictionary in terms of data retrieval.\n",
        "\n",
        "Ans: Lists use index-based retrieval (O(1) for direct access, O(n) for searching).\n",
        "\n",
        "Dictionaries use key-based retrieval (O(1)) through hashing, making lookups faster."
      ],
      "metadata": {
        "id": "rUO7vy0Klias"
      }
    }
  ]
}