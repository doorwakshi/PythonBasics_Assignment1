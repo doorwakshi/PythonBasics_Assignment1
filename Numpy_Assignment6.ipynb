{
  "nbformat": 4,
  "nbformat_minor": 0,
  "metadata": {
    "colab": {
      "provenance": []
    },
    "kernelspec": {
      "name": "python3",
      "display_name": "Python 3"
    },
    "language_info": {
      "name": "python"
    }
  },
  "cells": [
    {
      "cell_type": "markdown",
      "source": [
        "1. Explain the purpose and advantages of NumPy in scientific computing and data analysis. How does it enhance Python's capabilities for numerical operations?\n",
        "\n",
        "Answer:\n",
        "NumPy (Numerical Python) is a powerful library designed for scientific computing and data analysis. It provides an efficient multi-dimensional array (ndarray) and various mathematical functions optimized for numerical computations.\n",
        "\n",
        "Advantages of NumPy:\n",
        "\n",
        "Efficient Memory Usage: NumPy arrays consume less memory compared to Python lists.\n",
        "\n",
        "Fast Computation: Operations on NumPy arrays are faster due to optimized C and Fortran libraries.\n",
        "\n",
        "Vectorization: Eliminates the need for explicit loops, leading to efficient array operations.\n",
        "\n",
        "Broadcasting: Allows operations on arrays of different shapes without manual reshaping.\n",
        "\n",
        "Comprehensive Functions: Provides functions for linear algebra, Fourier transforms, and random number generation.\n",
        "\n",
        "Interoperability: Works seamlessly with other scientific libraries like SciPy and pandas.\n",
        "\n",
        "2. Compare and contrast np.mean() and np.average() functions in NumPy. When would you use one over the other?\n",
        "\n",
        "Answer:\n",
        "\n",
        "np.mean(): Computes the arithmetic mean (average) of an array along a specified axis.\n",
        "\n",
        "np.average(): Computes the weighted average, where each element can have a different weight.\n",
        "\n",
        "When to use which?\n",
        "\n",
        "Use np.mean() when all elements contribute equally to the average.\n",
        "\n",
        "Use np.average() when elements have different levels of importance (weights).\n",
        "\n",
        "Example:"
      ],
      "metadata": {
        "id": "KJUnsLE5a-9q"
      }
    },
    {
      "cell_type": "code",
      "source": [
        "import numpy as np\n",
        "\n",
        "arr = np.array([1, 2, 3, 4, 5])\n",
        "\n",
        "print(np.mean(arr))  # Output: 3.0 (Simple average)\n",
        "print(np.average(arr, weights=[1, 2, 3, 4, 5]))  # Output: 3.666\n"
      ],
      "metadata": {
        "colab": {
          "base_uri": "https://localhost:8080/"
        },
        "id": "Pb8PwhkPbxSm",
        "outputId": "625a5846-bf2a-49f9-b30d-3c012f9eb0ec"
      },
      "execution_count": 1,
      "outputs": [
        {
          "output_type": "stream",
          "name": "stdout",
          "text": [
            "3.0\n",
            "3.6666666666666665\n"
          ]
        }
      ]
    },
    {
      "cell_type": "markdown",
      "source": [
        "3. Describe the methods for reversing a NumPy array along different axes. Provide examples for 1D and 2D arrays.\n",
        "\n",
        "Answer: Reversing can be done using np.flip() or slicing [::-1].\n",
        "\n",
        "Example:"
      ],
      "metadata": {
        "id": "qmb0jO7Xa7PS"
      }
    },
    {
      "cell_type": "code",
      "source": [
        "#For 1D Arrays:\n",
        "arr = np.array([1, 2, 3, 4, 5])\n",
        "print(arr[::-1])  # Output: [5 4 3 2 1]\n",
        "\n",
        "#For 2D Arrays:\n",
        "arr = np.array([[1, 2, 3], [4, 5, 6]])\n",
        "print(np.flip(arr, axis=0))  # Flips along rows\n",
        "print(np.flip(arr, axis=1))  # Flips along columns\n",
        "\n",
        "\n"
      ],
      "metadata": {
        "colab": {
          "base_uri": "https://localhost:8080/"
        },
        "id": "t5K9DgszcKCJ",
        "outputId": "cd9c2d66-ca47-4443-b070-07d60abac046"
      },
      "execution_count": 2,
      "outputs": [
        {
          "output_type": "stream",
          "name": "stdout",
          "text": [
            "[5 4 3 2 1]\n",
            "[[4 5 6]\n",
            " [1 2 3]]\n",
            "[[3 2 1]\n",
            " [6 5 4]]\n"
          ]
        }
      ]
    },
    {
      "cell_type": "markdown",
      "source": [
        "4. How can you determine the data type of elements in a NumPy array? Discuss the importance of data types in memory management and performance.\n",
        "\n",
        "Answer: To determine the data type, use the dtype attribute:\n",
        "\n",
        "Importance of Data Types:\n",
        "\n",
        "Memory Efficiency: Choosing appropriate data types saves memory (e.g., int8 uses less memory than int64).\n",
        "\n",
        "Performance Optimization: Operations on smaller data types execute faster.\n",
        "\n",
        "Precision Control: Using float32 instead of float64 can save space if high precision isn't needed."
      ],
      "metadata": {
        "id": "ss3imwDJa7bm"
      }
    },
    {
      "cell_type": "code",
      "source": [
        "arr = np.array([1, 2, 3])\n",
        "print(arr.dtype)  # Output: int32 (or int64 depending on system)"
      ],
      "metadata": {
        "colab": {
          "base_uri": "https://localhost:8080/"
        },
        "id": "tFSgTnzvdxpW",
        "outputId": "5e4e22ce-46b4-491d-f1ed-2cb883669829"
      },
      "execution_count": 3,
      "outputs": [
        {
          "output_type": "stream",
          "name": "stdout",
          "text": [
            "int64\n"
          ]
        }
      ]
    },
    {
      "cell_type": "markdown",
      "source": [
        "5. Define ndarrays in NumPy and explain their key features. How do they differ from standard Python lists?\n",
        "\n",
        "Answer: An ndarray (N-dimensional array) is the core data structure in NumPy, offering high-performance multi-dimensional storage and operations.\n",
        "\n",
        "Key Features:\n",
        "\n",
        "Homogeneous: All elements must be of the same data type.\n",
        "\n",
        "Efficient: Stored in contiguous memory locations for fast access.\n",
        "\n",
        "Supports Broadcasting: Enables operations on different shaped arrays.\n",
        "\n",
        "Optimized Computation: Uses vectorization instead of loops.\n",
        "\n",
        "Differences from Python Lists:\n",
        "\n",
        "Python lists can store elements of different types, whereas NumPy arrays require a uniform data type.\n",
        "\n",
        "NumPy arrays occupy less memory and offer faster computations due to efficient memory handling.\n",
        "\n",
        "Operations on NumPy arrays are vectorized, eliminating the need for loops, whereas Python lists require explicit iteration.\n",
        "\n",
        "NumPy provides built-in functions for complex mathematical operations, which are not available for Python lists.\n",
        "\n",
        "In summary, NumPy ndarrays are optimized for performance, making them ideal for large-scale numerical and scientific computations."
      ],
      "metadata": {
        "id": "ErU-RK71a7mr"
      }
    },
    {
      "cell_type": "markdown",
      "source": [
        "6. Analyze the performance benefits of NumPy arrays over Python lists for large-scale numerical operations.\n",
        "\n",
        "Answer: NumPy arrays outperform Python lists due to:\n",
        "\n",
        "Memory Efficiency: NumPy arrays use contiguous blocks, reducing overhead.\n",
        "\n",
        "Vectorized Operations: Eliminates explicit loops, leveraging low-level optimizations.\n",
        "\n",
        "Lower Latency: Uses optimized C/Fortran functions.\n",
        "\n",
        "Example (Time Comparison):"
      ],
      "metadata": {
        "id": "xScMtvZreMuP"
      }
    },
    {
      "cell_type": "code",
      "source": [
        "import numpy as np\n",
        "import time\n",
        "\n",
        "size = 1000000\n",
        "list1 = list(range(size))\n",
        "list2 = list(range(size))\n",
        "\n",
        "arr1 = np.array(list1)\n",
        "arr2 = np.array(list2)\n",
        "\n",
        "# Python list addition\n",
        "start = time.time()\n",
        "result = [x + y for x, y in zip(list1, list2)]\n",
        "print(\"Python List Time:\", time.time() - start)\n",
        "\n",
        "# NumPy array addition\n",
        "start = time.time()\n",
        "result = arr1 + arr2\n",
        "print(\"NumPy Array Time:\", time.time() - start)\n"
      ],
      "metadata": {
        "colab": {
          "base_uri": "https://localhost:8080/"
        },
        "id": "Vuzm36-keSGg",
        "outputId": "47786458-a08e-4c6f-8486-80aa1ddfe005"
      },
      "execution_count": 4,
      "outputs": [
        {
          "output_type": "stream",
          "name": "stdout",
          "text": [
            "Python List Time: 0.07027387619018555\n",
            "NumPy Array Time: 0.013423919677734375\n"
          ]
        }
      ]
    },
    {
      "cell_type": "markdown",
      "source": [
        "7. Compare vstack() and hstack() functions in NumPy. Provide examples demonstrating their usage and output.\n",
        "\n",
        "Answer:\n",
        "\n",
        "vstack(): Stacks arrays vertically (row-wise).\n",
        "\n",
        "hstack(): Stacks arrays horizontally (column-wise).\n",
        "\n",
        "Example:"
      ],
      "metadata": {
        "id": "UdHBfbzWeScF"
      }
    },
    {
      "cell_type": "code",
      "source": [
        "a = np.array([[1, 2], [3, 4]])\n",
        "b = np.array([[5, 6], [7, 8]])\n",
        "\n",
        "print(np.vstack((a, b)))  # Stacks row-wise\n",
        "print(np.hstack((a, b)))  # Stacks column-wise\n"
      ],
      "metadata": {
        "colab": {
          "base_uri": "https://localhost:8080/"
        },
        "id": "yeh312GreSxs",
        "outputId": "6f93baa0-f4f2-4674-c2fd-bc5e0255634b"
      },
      "execution_count": 5,
      "outputs": [
        {
          "output_type": "stream",
          "name": "stdout",
          "text": [
            "[[1 2]\n",
            " [3 4]\n",
            " [5 6]\n",
            " [7 8]]\n",
            "[[1 2 5 6]\n",
            " [3 4 7 8]]\n"
          ]
        }
      ]
    },
    {
      "cell_type": "markdown",
      "source": [
        "8. Explain the differences between fliplr() and flipud() methods in NumPy, including their effects on various array dimensions.\n",
        "\n",
        "Answer:\n",
        "\n",
        "fliplr(arr): Flips the array left to right.\n",
        "\n",
        "flipud(arr): Flips the array upside down."
      ],
      "metadata": {
        "id": "KYCYzLvreiSZ"
      }
    },
    {
      "cell_type": "code",
      "source": [
        "arr = np.array([[1, 2], [3, 4]])\n",
        "\n",
        "print(np.fliplr(arr))  # [[2, 1], [4, 3]]\n",
        "print(np.flipud(arr))  # [[3, 4], [1, 2]]\n"
      ],
      "metadata": {
        "colab": {
          "base_uri": "https://localhost:8080/"
        },
        "id": "IjS3RyVveiyo",
        "outputId": "17b1af73-4d41-4a5e-a3f2-5d0d3a5df38d"
      },
      "execution_count": 6,
      "outputs": [
        {
          "output_type": "stream",
          "name": "stdout",
          "text": [
            "[[2 1]\n",
            " [4 3]]\n",
            "[[3 4]\n",
            " [1 2]]\n"
          ]
        }
      ]
    },
    {
      "cell_type": "markdown",
      "source": [
        "9. Discuss the functionality of the array_split() method in NumPy. How does it handle uneven splits?\n",
        "\n",
        "Answer: np.array_split(arr, sections) splits an array into specified parts. If the array cannot be split evenly, the last parts will have fewer elements.\n",
        "\n",
        "Example:"
      ],
      "metadata": {
        "id": "2aktfVrce8lp"
      }
    },
    {
      "cell_type": "code",
      "source": [
        "arr = np.array([1, 2, 3, 4, 5])\n",
        "print(np.array_split(arr, 3))  # [array([1, 2]), array([3, 4]), array([5])]\n"
      ],
      "metadata": {
        "colab": {
          "base_uri": "https://localhost:8080/"
        },
        "id": "PPwKe9xte876",
        "outputId": "bda700a7-5ed0-4bdd-ccdd-e16fbd32d766"
      },
      "execution_count": 7,
      "outputs": [
        {
          "output_type": "stream",
          "name": "stdout",
          "text": [
            "[array([1, 2]), array([3, 4]), array([5])]\n"
          ]
        }
      ]
    },
    {
      "cell_type": "markdown",
      "source": [
        "10. Explain the concepts of vectorization and broadcasting in NumPy. How do they contribute to efficient array operations?\n",
        "\n",
        "Answer:\n",
        "\n",
        "Vectorization: Eliminates explicit loops by applying operations directly to arrays.\n",
        "\n",
        "Broadcasting: Enables operations on arrays of different shapes by expanding them.\n",
        "\n",
        "Example:"
      ],
      "metadata": {
        "id": "wMM9rxwCe9KU"
      }
    },
    {
      "cell_type": "code",
      "source": [
        "arr = np.array([1, 2, 3])\n",
        "print(arr * 2)  # Vectorized multiplication\n",
        "\n",
        "matrix = np.array([[1, 2], [3, 4]])\n",
        "vector = np.array([1, 2])\n",
        "print(matrix + vector)  # Broadcasting\n"
      ],
      "metadata": {
        "colab": {
          "base_uri": "https://localhost:8080/"
        },
        "id": "Wn3YvcY5fOtK",
        "outputId": "1db85fe4-5266-4b8c-f537-7b8c32a5943c"
      },
      "execution_count": 8,
      "outputs": [
        {
          "output_type": "stream",
          "name": "stdout",
          "text": [
            "[2 4 6]\n",
            "[[2 4]\n",
            " [4 6]]\n"
          ]
        }
      ]
    },
    {
      "cell_type": "markdown",
      "source": [
        "**PRACTICAL QUESTIONS** :"
      ],
      "metadata": {
        "id": "SxOoZeKBgYhT"
      }
    },
    {
      "cell_type": "code",
      "source": [
        "import numpy as np\n",
        "\n",
        "# 1. Create a 3x3 NumPy array with random integers between 1 and 100. Then, interchange its rows and columns.\n",
        "arr = np.random.randint(1, 101, (3, 3))\n",
        "transposed_arr = arr.T\n",
        "print(\"Original Array:\\n\", arr)\n",
        "print(\"Transposed Array:\\n\", transposed_arr)\n",
        "\n",
        "# 2. Generate a 1D NumPy array with 10 elements. Reshape it into a 2x5 array, then into a 5x2 array.\n",
        "arr_1d = np.arange(10)\n",
        "arr_2x5 = arr_1d.reshape(2, 5)\n",
        "arr_5x2 = arr_1d.reshape(5, 2)\n",
        "print(\"2x5 Array:\\n\", arr_2x5)\n",
        "print(\"5x2 Array:\\n\", arr_5x2)\n",
        "\n",
        "# 3. Create a 4x4 NumPy array with random float values. Add a border of zeros around it, resulting in a 6x6 array.\n",
        "arr_4x4 = np.random.rand(4, 4)\n",
        "bordered_arr = np.pad(arr_4x4, pad_width=1, mode='constant', constant_values=0)\n",
        "print(\"Original 4x4 Array:\\n\", arr_4x4)\n",
        "print(\"6x6 Array with Zero Border:\\n\", bordered_arr)\n",
        "\n",
        "# 4. Using NumPy, create an array of integers from 10 to 60 with a step of 5.\n",
        "arr_step = np.arange(10, 61, 5)\n",
        "print(\"Array with step 5:\\n\", arr_step)\n",
        "\n",
        "# 5. Create a NumPy array of strings ['python', 'numpy', 'pandas']. Apply different case transformations.\n",
        "arr_strings = np.array(['python', 'numpy', 'pandas'])\n",
        "upper_case = np.char.upper(arr_strings)\n",
        "lower_case = np.char.lower(arr_strings)\n",
        "title_case = np.char.title(arr_strings)\n",
        "print(\"Uppercase:\\n\", upper_case)\n",
        "print(\"Lowercase:\\n\", lower_case)\n",
        "print(\"Title Case:\\n\", title_case)\n",
        "\n",
        "# 6. Generate a NumPy array of words. Insert a space between each character of every word in the array.\n",
        "arr_words = np.array(['hello', 'world', 'numpy'])\n",
        "spaced_words = np.char.join(\" \", arr_words)\n",
        "print(\"Words with spaces:\\n\", spaced_words)\n",
        "\n",
        "# 7. Create two 2D NumPy arrays and perform element-wise addition, subtraction, multiplication, and division.\n",
        "arr1 = np.array([[1, 2], [3, 4]])\n",
        "arr2 = np.array([[5, 6], [7, 8]])\n",
        "sum_arr = arr1 + arr2\n",
        "diff_arr = arr1 - arr2\n",
        "prod_arr = arr1 * arr2\n",
        "div_arr = arr1 / arr2\n",
        "print(\"Addition:\\n\", sum_arr)\n",
        "print(\"Subtraction:\\n\", diff_arr)\n",
        "print(\"Multiplication:\\n\", prod_arr)\n",
        "print(\"Division:\\n\", div_arr)\n",
        "\n",
        "# 8. Use NumPy to create a 5x5 identity matrix, then extract its diagonal elements.\n",
        "identity_matrix = np.eye(5)\n",
        "diagonal_elements = np.diag(identity_matrix)\n",
        "print(\"Identity Matrix:\\n\", identity_matrix)\n",
        "print(\"Diagonal Elements:\\n\", diagonal_elements)\n",
        "\n",
        "# 9. Generate a NumPy array of 100 random integers between 0 and 1000. Find and display all prime numbers in this array.\n",
        "def is_prime(n):\n",
        "    if n < 2:\n",
        "        return False\n",
        "    for i in range(2, int(np.sqrt(n)) + 1):\n",
        "        if n % i == 0:\n",
        "            return False\n",
        "    return True\n",
        "\n",
        "rand_arr = np.random.randint(0, 1001, 100)\n",
        "prime_numbers = np.array([num for num in rand_arr if is_prime(num)])\n",
        "print(\"Random Array:\\n\", rand_arr)\n",
        "print(\"Prime Numbers:\\n\", prime_numbers)\n",
        "\n",
        "# 10. Create a NumPy array representing daily temperatures for a month. Calculate and display the weekly averages.\n",
        "daily_temperatures = np.random.randint(15, 35, 30)  # Generating random temperatures\n",
        "weekly_avg = np.mean(daily_temperatures.reshape(6, 5), axis=1)  # 6 weeks of 5 days\n",
        "print(\"Daily Temperatures:\\n\", daily_temperatures)\n",
        "print(\"Weekly Averages:\\n\", weekly_avg)\n"
      ],
      "metadata": {
        "colab": {
          "base_uri": "https://localhost:8080/"
        },
        "id": "uXGXv4FdgRFg",
        "outputId": "7fa18ee7-eec9-4a15-d0b5-3506dcfb562c"
      },
      "execution_count": 9,
      "outputs": [
        {
          "output_type": "stream",
          "name": "stdout",
          "text": [
            "Original Array:\n",
            " [[61 16 89]\n",
            " [32 10 28]\n",
            " [21 51 73]]\n",
            "Transposed Array:\n",
            " [[61 32 21]\n",
            " [16 10 51]\n",
            " [89 28 73]]\n",
            "2x5 Array:\n",
            " [[0 1 2 3 4]\n",
            " [5 6 7 8 9]]\n",
            "5x2 Array:\n",
            " [[0 1]\n",
            " [2 3]\n",
            " [4 5]\n",
            " [6 7]\n",
            " [8 9]]\n",
            "Original 4x4 Array:\n",
            " [[0.12814863 0.92058149 0.05731921 0.18594069]\n",
            " [0.41986571 0.8195217  0.36885691 0.28702492]\n",
            " [0.45387892 0.6908331  0.86722528 0.79124484]\n",
            " [0.95048477 0.51642057 0.08991721 0.5441124 ]]\n",
            "6x6 Array with Zero Border:\n",
            " [[0.         0.         0.         0.         0.         0.        ]\n",
            " [0.         0.12814863 0.92058149 0.05731921 0.18594069 0.        ]\n",
            " [0.         0.41986571 0.8195217  0.36885691 0.28702492 0.        ]\n",
            " [0.         0.45387892 0.6908331  0.86722528 0.79124484 0.        ]\n",
            " [0.         0.95048477 0.51642057 0.08991721 0.5441124  0.        ]\n",
            " [0.         0.         0.         0.         0.         0.        ]]\n",
            "Array with step 5:\n",
            " [10 15 20 25 30 35 40 45 50 55 60]\n",
            "Uppercase:\n",
            " ['PYTHON' 'NUMPY' 'PANDAS']\n",
            "Lowercase:\n",
            " ['python' 'numpy' 'pandas']\n",
            "Title Case:\n",
            " ['Python' 'Numpy' 'Pandas']\n",
            "Words with spaces:\n",
            " ['h e l l o' 'w o r l d' 'n u m p y']\n",
            "Addition:\n",
            " [[ 6  8]\n",
            " [10 12]]\n",
            "Subtraction:\n",
            " [[-4 -4]\n",
            " [-4 -4]]\n",
            "Multiplication:\n",
            " [[ 5 12]\n",
            " [21 32]]\n",
            "Division:\n",
            " [[0.2        0.33333333]\n",
            " [0.42857143 0.5       ]]\n",
            "Identity Matrix:\n",
            " [[1. 0. 0. 0. 0.]\n",
            " [0. 1. 0. 0. 0.]\n",
            " [0. 0. 1. 0. 0.]\n",
            " [0. 0. 0. 1. 0.]\n",
            " [0. 0. 0. 0. 1.]]\n",
            "Diagonal Elements:\n",
            " [1. 1. 1. 1. 1.]\n",
            "Random Array:\n",
            " [338 968 696 276 232 531 746 225 198  68 528  18 687 148 686  19 856 633\n",
            " 374 772 640 986 838 383 543 379 951 745 305 268 564 779 303 934 978 672\n",
            " 651 840 678 100 278 900  41 648 236 207 640 279 844 157 316 792  47 620\n",
            "  94 838 223  42 871 952 330 585 510 400  47 493 555 441 187 373 273 998\n",
            " 564 694 477 430 312  78 988 838 538 412   2 491 966 660 671 316 327  23\n",
            " 722  63 334 184 580 220 438 942  36  92]\n",
            "Prime Numbers:\n",
            " [ 19 383 379  41 157  47 223  47 373   2 491  23]\n",
            "Daily Temperatures:\n",
            " [21 18 32 21 21 28 15 18 33 17 18 31 22 23 28 23 24 30 25 18 20 28 16 16\n",
            " 21 15 30 21 27 28]\n",
            "Weekly Averages:\n",
            " [22.6 22.2 24.4 24.  20.2 24.2]\n"
          ]
        }
      ]
    }
  ]
}