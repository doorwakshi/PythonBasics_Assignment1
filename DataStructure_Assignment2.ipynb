{
  "nbformat": 4,
  "nbformat_minor": 0,
  "metadata": {
    "colab": {
      "provenance": []
    },
    "kernelspec": {
      "name": "python3",
      "display_name": "Python 3"
    },
    "language_info": {
      "name": "python"
    }
  },
  "cells": [
    {
      "cell_type": "code",
      "execution_count": null,
      "metadata": {
        "id": "dJVrSZCSlgGi"
      },
      "outputs": [],
      "source": [
        "1. What are data structures, and why are they important?\n",
        "\n",
        "Ans: Data structures are ways to organize, store, and manage data efficiently for operations such as searching, sorting, and manipulation. They are important because they help optimize performance and memory usage in software applications."
      ]
    },
    {
      "cell_type": "markdown",
      "source": [
        "2. Explain the difference between mutable and immutable data types with examples.\n",
        "\n",
        "Ans: Mutable data types can be changed after creation, whereas immutable data types cannot be modified."
      ],
      "metadata": {
        "id": "G-Mr3pljlhqw"
      }
    },
    {
      "cell_type": "code",
      "source": [
        "# Mutable Example: List\n",
        "my_list = [1, 2, 3]\n",
        "my_list.append(4)  # List is modified\n",
        "print(my_list)  # Output: [1, 2, 3, 4]\n",
        "\n",
        "# Immutable Example: String\n",
        "my_str = \"Hello\"\n",
        "# my_str[0] = \"h\"  # This will cause an error because strings are immutable\n",
        "my_str = \"hello\"  # Creating a new string instead\n",
        "print(my_str)  # Output: hello"
      ],
      "metadata": {
        "id": "qd4g3viLnjj6",
        "outputId": "6aacba66-40b0-48bd-e45a-256939ba90b6",
        "colab": {
          "base_uri": "https://localhost:8080/"
        }
      },
      "execution_count": null,
      "outputs": [
        {
          "output_type": "stream",
          "name": "stdout",
          "text": [
            "[1, 2, 3, 4]\n",
            "hello\n"
          ]
        }
      ]
    },
    {
      "cell_type": "markdown",
      "source": [
        "3. What are the main differences between lists and tuples in Python?\n",
        "\n",
        "Ans: Lists are mutable, while tuples are immutable.\n",
        "\n",
        "Lists have dynamic size and can be modified, whereas tuples have a fixed size.\n",
        "\n",
        "Tuples are faster and consume less memory than lists due to immutability.\n",
        "\n",
        "Syntax difference: list = [1, 2, 3], tuple = (1, 2, 3)."
      ],
      "metadata": {
        "id": "ce_4fDmClh6O"
      }
    },
    {
      "cell_type": "markdown",
      "source": [],
      "metadata": {
        "id": "3uULzuM4liDt"
      }
    },
    {
      "cell_type": "markdown",
      "source": [
        "4. Describe how dictionaries store data.\n",
        "\n",
        "Ans: Dictionaries store data in key-value pairs using a hash table. Keys are hashed to unique memory locations, allowing fast lookups, additions, and deletions."
      ],
      "metadata": {
        "id": "E8DCfbg1liL2"
      }
    },
    {
      "cell_type": "markdown",
      "source": [
        "5. Why might you use a set instead of a list in Python?\n",
        "\n",
        "Ans:Sets automatically remove duplicate values.\n",
        "\n",
        "Faster lookup (O(1) vs. O(n) in lists).\n",
        "\n",
        "Mathematical operations like union, intersection, and difference are easy.\n",
        "\n",
        "\n",
        "6. What is a string in Python, and how is it different from a list?\n",
        "\n",
        "Ans:A string is a sequence of characters, whereas a list is a collection of any data type.\n",
        "\n",
        "Strings are immutable, while lists are mutable.\n",
        "\n",
        "Strings support limited modifications, but lists allow insertion, deletion, and replacement.\n",
        "\n",
        "\n",
        "7. How do tuples ensure data integrity in Python?\n",
        "\n",
        "Ans: Tuples are immutable, meaning data cannot be changed accidentally. This ensures data remains consistent and secure in applications.\n",
        "\n",
        "8. What is a hash table, and how does it relate to dictionaries in Python?\n",
        "\n",
        "Ans: A hash table is a data structure that stores key-value pairs by hashing keys. Python dictionaries use hash tables internally, allowing quick retrieval (O(1) time complexity).\n",
        "\n",
        "9. Can lists contain different data types in Python?\n",
        "\n",
        "Ans: Yes, lists can contain mixed data types, including numbers, strings, and other objects.\n",
        "Example:\n",
        "\n",
        "my_list = [1, \"hello\", 3.14, [2, 3]]\n",
        "\n",
        "10. Explain why strings are immutable in Python.\n",
        "\n",
        "Ans: Strings are immutable to improve performance and security, as multiple references can share the same string object without risk of accidental modification.\n",
        "\n",
        "11. What advantages do dictionaries offer over lists for certain tasks?\n",
        "\n",
        "Ans:Faster lookups (O(1) vs. O(n)).\n",
        "\n",
        "Key-value mapping makes data organization more intuitive.\n",
        "\n",
        "Efficient data retrieval without searching through indices.\n",
        "\n",
        "\n",
        "12. Describe a scenario where using a tuple would be preferable over a list.\n",
        "\n",
        "Ans: Storing coordinates (x, y), database records, or constant values where immutability ensures data integrity.\n",
        "Example:\n",
        "\n",
        "location = (28.7041, 77.1025)  # Latitude and longitude\n",
        "\n",
        "13. How do sets handle duplicate values in Python?\n",
        "\n",
        "Ans: Sets automatically remove duplicate values and store only unique elements.\n",
        "\n",
        "14. How does the \"in\" keyword work differently for lists and dictionaries?\n",
        "\n",
        "Ans:In lists, in checks for the presence of a value (O(n) time complexity).\n",
        "\n",
        "In dictionaries, in checks for keys (O(1) time complexity).\n",
        "\n",
        "\n",
        "15. Can you modify the elements of a tuple? Explain why or why not.\n",
        "\n",
        "Ans: No, tuples are immutable; once created, elements cannot be modified, ensuring data consistency."
      ],
      "metadata": {
        "id": "RdNwBr84liux"
      }
    },
    {
      "cell_type": "markdown",
      "source": [
        "16. What is a nested dictionary, and give an example of its use case?\n",
        "\n",
        "Ans: A nested dictionary is a dictionary containing another dictionary as a value. It is useful for storing structured data like student records.\n",
        "Example:"
      ],
      "metadata": {
        "id": "DggvrC8bliUO"
      }
    },
    {
      "cell_type": "code",
      "source": [
        "students = {\n",
        "    \"Alice\": {\"age\": 20, \"grade\": \"A\"},\n",
        "    \"Bob\": {\"age\": 22, \"grade\": \"B\"}\n",
        "}"
      ],
      "metadata": {
        "id": "_LyVUXcunCUF"
      },
      "execution_count": null,
      "outputs": []
    },
    {
      "cell_type": "markdown",
      "source": [
        "17. Describe the time complexity of accessing elements in a dictionary.\n",
        "\n",
        "Ans: Dictionary access is O(1) (constant time) due to hash table implementation.\n",
        "\n",
        "18. In what situations are lists preferred over dictionaries?\n",
        "\n",
        "Ans: When order matters (lists maintain order).\n",
        "\n",
        "When working with sequential data.\n",
        "\n",
        "When key-value mapping is not required.\n",
        "\n",
        "\n",
        "19. Why are dictionaries considered unordered, and how does that affect data retrieval?\n",
        "\n",
        "Ans: Before Python 3.7, dictionaries were unordered because they used hash tables. Since Python 3.7+, dictionaries maintain insertion order but still allow fast key-based retrieval rather than indexing like lists.\n",
        "\n",
        "20. Explain the difference between a list and a dictionary in terms of data retrieval.\n",
        "\n",
        "Ans: Lists use index-based retrieval (O(1) for direct access, O(n) for searching).\n",
        "\n",
        "Dictionaries use key-based retrieval (O(1)) through hashing, making lookups faster."
      ],
      "metadata": {
        "id": "rUO7vy0Klias"
      }
    },
    {
      "cell_type": "markdown",
      "source": [
        "PRACTICAL QUESTIONS"
      ],
      "metadata": {
        "id": "_DbPh4kIvlbr"
      }
    },
    {
      "cell_type": "code",
      "source": [
        "#1. Write a code to create a string with your name and print it.\n",
        "\n",
        "name = \"Arjun\"\n",
        "print(name)"
      ],
      "metadata": {
        "colab": {
          "base_uri": "https://localhost:8080/"
        },
        "id": "QJg9VqNxv05x",
        "outputId": "d5b2086f-6fd9-4180-db36-e7c99f1e0cac"
      },
      "execution_count": null,
      "outputs": [
        {
          "output_type": "stream",
          "name": "stdout",
          "text": [
            "Arjun\n"
          ]
        }
      ]
    },
    {
      "cell_type": "code",
      "source": [
        "#2. Write a code to find the length of the string \"Hello World\".\n",
        "\n",
        "string = \"Hello World\"\n",
        "print(len(string))"
      ],
      "metadata": {
        "colab": {
          "base_uri": "https://localhost:8080/"
        },
        "id": "MWcBjpmUv1Fg",
        "outputId": "c16c4fce-f74c-4fad-d717-21bc14a41118"
      },
      "execution_count": null,
      "outputs": [
        {
          "output_type": "stream",
          "name": "stdout",
          "text": [
            "11\n"
          ]
        }
      ]
    },
    {
      "cell_type": "code",
      "source": [
        "#3. Write a code to slice the first 3 characters from the string \"Python Programming\".\n",
        "\n",
        "string = \"Python Programming\"\n",
        "print(string[:3])\n",
        "\n",
        "\n",
        "#4. Write a code to convert the string \"hello\" to uppercase.\n",
        "\n",
        "string = \"hello\"\n",
        "print(string.upper())\n",
        "\n",
        "\n",
        "#5. Write a code to replace the word \"apple\" with \"orange\" in the string \"I like apple\".\n",
        "\n",
        "string = \"I like apple\"\n",
        "print(string.replace(\"apple\", \"orange\"))\n",
        "\n",
        "\n",
        "#6. Write a code to create a list with numbers 1 to 5 and print it.\n",
        "\n",
        "numbers = [1, 2, 3, 4, 5]\n",
        "print(numbers)\n",
        "\n",
        "\n",
        "#7. Write a code to append the number 10 to the list [1, 2, 3, 4].\n",
        "\n",
        "numbers = [1, 2, 3, 4]\n",
        "numbers.append(10)\n",
        "print(numbers)\n",
        "\n",
        "\n",
        "\n",
        "#8. Write a code to remove the number 3 from the list [1, 2, 3, 4, 5].\n",
        "\n",
        "numbers = [1, 2, 3, 4, 5]\n",
        "numbers.remove(3)\n",
        "print(numbers)\n",
        "\n",
        "\n",
        "#9. Write a code to access the second element in the list ['a', 'b', 'c'].\n",
        "\n",
        "letters = ['a', 'b', 'c']\n",
        "print(letters[1])\n",
        "\n",
        "\n",
        "#10. Write a code to reverse the list [10, 20, 30, 40, 50].\n",
        "\n",
        "numbers = [10, 20, 30, 40, 50]\n",
        "numbers.reverse()\n",
        "print(numbers)"
      ],
      "metadata": {
        "colab": {
          "base_uri": "https://localhost:8080/"
        },
        "id": "4R7D0lohv1Lz",
        "outputId": "4ae12bcd-4591-47ba-dedb-cc8d4781cd30"
      },
      "execution_count": null,
      "outputs": [
        {
          "output_type": "stream",
          "name": "stdout",
          "text": [
            "Pyt\n",
            "HELLO\n",
            "I like orange\n",
            "[1, 2, 3, 4, 5]\n",
            "[1, 2, 3, 4, 10]\n",
            "[1, 2, 4, 5]\n",
            "b\n",
            "[50, 40, 30, 20, 10]\n"
          ]
        }
      ]
    },
    {
      "cell_type": "code",
      "source": [
        "#11. Write a code to create a tuple with the elements 100, 200, 300 and print it.\n",
        "\n",
        "numbers = (100, 200, 300)\n",
        "print(numbers)\n",
        "\n",
        "\n",
        "#12. Write a code to access the second-to-last element of the tuple ('red', 'green', 'blue', 'yellow').\n",
        "\n",
        "colors = ('red', 'green', 'blue', 'yellow')\n",
        "print(colors[-2])\n",
        "\n",
        "\n",
        "#13. Write a code to find the minimum number in the tuple (10, 20, 5, 15).\n",
        "\n",
        "numbers = (10, 20, 5, 15)\n",
        "print(min(numbers))\n",
        "\n",
        "\n",
        "#14. Write a code to find the index of the element \"car\" in the tuple ('dog', 'cat', 'rabbit').\n",
        "\n",
        "animals = ('dog', 'cat', 'rabbit')\n",
        "print(animals.index('cat'))\n",
        "\n",
        "\n",
        "#15. Write a code to create a tuple containing three different fruits and check if \"kiwi\" is in it.\n",
        "\n",
        "fruits = ('apple', 'banana', 'mango')\n",
        "print(\"kiwi\" in fruits)"
      ],
      "metadata": {
        "colab": {
          "base_uri": "https://localhost:8080/"
        },
        "id": "-SKFsZxMv5tF",
        "outputId": "270446c0-6d31-49c8-b6e2-f1c6da9d8ab5"
      },
      "execution_count": null,
      "outputs": [
        {
          "output_type": "stream",
          "name": "stdout",
          "text": [
            "(100, 200, 300)\n",
            "blue\n",
            "5\n",
            "1\n",
            "False\n"
          ]
        }
      ]
    },
    {
      "cell_type": "code",
      "source": [
        "#16. Write a code to create a set with the elements 'a', 'b', 'c' and print it.\n",
        "\n",
        "letters = {'a', 'b', 'c'}\n",
        "print(letters)\n",
        "\n",
        "\n",
        "#17. Write a code to clear all elements from the set {1, 2, 3, 4, 5}.\n",
        "\n",
        "numbers = {1, 2, 3, 4, 5}\n",
        "numbers.clear()\n",
        "print(numbers)\n",
        "\n",
        "\n",
        "#18. Write a code to remove the element 4 from the set {1, 2, 3, 4}.\n",
        "\n",
        "numbers = {1, 2, 3, 4}\n",
        "numbers.remove(4)\n",
        "print(numbers)\n",
        "\n",
        "\n",
        "#19. Write a code to find the union of two sets {1, 2, 3} and {3, 4, 5}.\n",
        "\n",
        "set1 = {1, 2, 3}\n",
        "set2 = {3, 4, 5}\n",
        "print(set1.union(set2))\n",
        "\n",
        "\n",
        "#20. Write a code to find the intersection of two sets {1, 2, 3} and {2, 3, 4}.\n",
        "\n",
        "set1 = {1, 2, 3}\n",
        "set2 = {2, 3, 4}\n",
        "print(set1.intersection(set2))"
      ],
      "metadata": {
        "colab": {
          "base_uri": "https://localhost:8080/"
        },
        "id": "HHNiTMH-v6yS",
        "outputId": "62fcfcd5-4d79-4c03-d64d-8678c184b33e"
      },
      "execution_count": null,
      "outputs": [
        {
          "output_type": "stream",
          "name": "stdout",
          "text": [
            "{'c', 'a', 'b'}\n",
            "set()\n",
            "{1, 2, 3}\n",
            "{1, 2, 3, 4, 5}\n",
            "{2, 3}\n"
          ]
        }
      ]
    },
    {
      "cell_type": "code",
      "source": [
        "#21. Write a code to create a dictionary with the keys \"name\", \"age\", and \"city\", and print it.\n",
        "\n",
        "person = {\"name\": \"John\", \"age\": 25, \"city\": \"New York\"}\n",
        "print(person)\n",
        "\n",
        "\n",
        "#22. Write a code to add a new key-value pair \"country\": \"USA\" to the dictionary {'name': 'John', 'age': 25}.\n",
        "\n",
        "person = {'name': 'John', 'age': 25}\n",
        "person[\"country\"] = \"USA\"\n",
        "print(person)\n",
        "\n",
        "\n",
        "#23. Write a code to access the value associated with the key \"name\" in the dictionary {'name': 'Alice', 'age': 30}.\n",
        "\n",
        "person = {'name': 'Alice', 'age': 30}\n",
        "print(person[\"name\"])\n",
        "\n",
        "\n",
        "#24. Write a code to remove the key \"age\" from the dictionary {'name': 'Bob', 'age': 22, 'city': 'New York'}.\n",
        "\n",
        "person = {'name': 'Bob', 'age': 22, 'city': 'New York'}\n",
        "del person[\"age\"]\n",
        "print(person)\n",
        "\n",
        "\n",
        "#25. Write a code to check if the key \"city\" exists in the dictionary {'name': 'Alice', 'city': 'Paris'}.\n",
        "\n",
        "person = {'name': 'Alice', 'city': 'Paris'}\n",
        "print(\"city\" in person)"
      ],
      "metadata": {
        "colab": {
          "base_uri": "https://localhost:8080/"
        },
        "id": "FCxCdxxKv8zS",
        "outputId": "4f3c66bc-2297-467e-ea89-a671eb6e2af6"
      },
      "execution_count": null,
      "outputs": [
        {
          "output_type": "stream",
          "name": "stdout",
          "text": [
            "{'name': 'John', 'age': 25, 'city': 'New York'}\n",
            "{'name': 'John', 'age': 25, 'country': 'USA'}\n",
            "Alice\n",
            "{'name': 'Bob', 'city': 'New York'}\n",
            "True\n"
          ]
        }
      ]
    },
    {
      "cell_type": "code",
      "source": [
        "#26. Write a code to create a list, a tuple, and a dictionary, and print them all.\n",
        "\n",
        "my_list = [1, 2, 3]\n",
        "my_tuple = (4, 5, 6)\n",
        "my_dict = {\"a\": 7, \"b\": 8}\n",
        "\n",
        "print(my_list)\n",
        "print(my_tuple)\n",
        "print(my_dict)\n",
        "\n",
        "\n",
        "#27. Write a code to create a list of 5 random numbers between 1 and 100, sort it in ascending order, and print the result.\n",
        "\n",
        "import random\n",
        "\n",
        "numbers = random.sample(range(1, 101), 5)\n",
        "numbers.sort()\n",
        "print(numbers)\n",
        "\n",
        "\n",
        "#28. Write a code to create a list with strings and print the element at the third index.\n",
        "\n",
        "words = [\"apple\", \"banana\", \"cherry\", \"date\", \"elderberry\"]\n",
        "print(words[3])\n",
        "\n",
        "\n",
        "#29. Write a code to combine two dictionaries into one and print the result.\n",
        "\n",
        "dict1 = {\"a\": 1, \"b\": 2}\n",
        "dict2 = {\"c\": 3, \"d\": 4}\n",
        "\n",
        "merged_dict = {**dict1, **dict2}\n",
        "print(merged_dict)\n",
        "\n",
        "\n",
        "#30. Write a code to convert a list of strings into a set.\n",
        "\n",
        "words = [\"apple\", \"banana\", \"cherry\", \"apple\"]\n",
        "words_set = set(words)\n",
        "print(words_set)"
      ],
      "metadata": {
        "colab": {
          "base_uri": "https://localhost:8080/"
        },
        "id": "-kMpqes8v9y-",
        "outputId": "b6b40116-b606-4157-d38a-54ecac87ea63"
      },
      "execution_count": null,
      "outputs": [
        {
          "output_type": "stream",
          "name": "stdout",
          "text": [
            "[1, 2, 3]\n",
            "(4, 5, 6)\n",
            "{'a': 7, 'b': 8}\n",
            "[3, 6, 21, 25, 34]\n",
            "date\n",
            "{'a': 1, 'b': 2, 'c': 3, 'd': 4}\n",
            "{'cherry', 'apple', 'banana'}\n"
          ]
        }
      ]
    },
    {
      "cell_type": "code",
      "source": [],
      "metadata": {
        "id": "Q-1yBf5iv-_1"
      },
      "execution_count": null,
      "outputs": []
    },
    {
      "cell_type": "code",
      "source": [],
      "metadata": {
        "id": "YRAGWqw1v_80"
      },
      "execution_count": null,
      "outputs": []
    },
    {
      "cell_type": "code",
      "source": [],
      "metadata": {
        "id": "7jftJp3-wAo4"
      },
      "execution_count": null,
      "outputs": []
    },
    {
      "cell_type": "code",
      "source": [],
      "metadata": {
        "id": "sNFBulJnwCKP"
      },
      "execution_count": null,
      "outputs": []
    },
    {
      "cell_type": "code",
      "source": [],
      "metadata": {
        "id": "fICIl2LMwFKt"
      },
      "execution_count": null,
      "outputs": []
    },
    {
      "cell_type": "code",
      "source": [],
      "metadata": {
        "id": "k4OY2ZwfwGDd"
      },
      "execution_count": null,
      "outputs": []
    },
    {
      "cell_type": "code",
      "source": [],
      "metadata": {
        "id": "IVi3HZ5uwGww"
      },
      "execution_count": null,
      "outputs": []
    },
    {
      "cell_type": "code",
      "source": [],
      "metadata": {
        "id": "e7CxAUCKwHUY"
      },
      "execution_count": null,
      "outputs": []
    },
    {
      "cell_type": "code",
      "source": [],
      "metadata": {
        "id": "d1wipnSKwH73"
      },
      "execution_count": null,
      "outputs": []
    },
    {
      "cell_type": "code",
      "source": [],
      "metadata": {
        "id": "a66jqZW4wIfy"
      },
      "execution_count": null,
      "outputs": []
    },
    {
      "cell_type": "code",
      "source": [],
      "metadata": {
        "id": "ye2BAgoDwJBt"
      },
      "execution_count": null,
      "outputs": []
    },
    {
      "cell_type": "code",
      "source": [],
      "metadata": {
        "id": "XKDjBiEAwJi2"
      },
      "execution_count": null,
      "outputs": []
    },
    {
      "cell_type": "code",
      "source": [],
      "metadata": {
        "id": "RepDob-2wKEF"
      },
      "execution_count": null,
      "outputs": []
    },
    {
      "cell_type": "code",
      "source": [],
      "metadata": {
        "id": "-gX0-OtcwKkd"
      },
      "execution_count": null,
      "outputs": []
    },
    {
      "cell_type": "code",
      "source": [],
      "metadata": {
        "id": "KEFEE89AwLGb"
      },
      "execution_count": null,
      "outputs": []
    },
    {
      "cell_type": "code",
      "source": [],
      "metadata": {
        "id": "ENhqxcsCwLli"
      },
      "execution_count": null,
      "outputs": []
    },
    {
      "cell_type": "code",
      "source": [],
      "metadata": {
        "id": "mOYoJihXwMEe"
      },
      "execution_count": null,
      "outputs": []
    },
    {
      "cell_type": "code",
      "source": [],
      "metadata": {
        "id": "ZZTGHcEKwMnN"
      },
      "execution_count": null,
      "outputs": []
    },
    {
      "cell_type": "code",
      "source": [],
      "metadata": {
        "id": "P5haT4S8wNGv"
      },
      "execution_count": null,
      "outputs": []
    },
    {
      "cell_type": "code",
      "source": [],
      "metadata": {
        "id": "YywWh1vGwNl4"
      },
      "execution_count": null,
      "outputs": []
    },
    {
      "cell_type": "code",
      "source": [],
      "metadata": {
        "id": "CMWk6t_owOH4"
      },
      "execution_count": null,
      "outputs": []
    },
    {
      "cell_type": "code",
      "source": [],
      "metadata": {
        "id": "N5vGLsevwOpU"
      },
      "execution_count": null,
      "outputs": []
    }
  ]
}