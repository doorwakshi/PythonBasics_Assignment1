{
  "nbformat": 4,
  "nbformat_minor": 0,
  "metadata": {
    "colab": {
      "provenance": []
    },
    "kernelspec": {
      "name": "python3",
      "display_name": "Python 3"
    },
    "language_info": {
      "name": "python"
    }
  },
  "cells": [
    {
      "cell_type": "markdown",
      "source": [
        "1. Write a code to reverse a string.\n",
        "2. Write a code to count the number of vowels in a string.\n",
        "3. Write a code to check if a given string is a palindrome or not.\n",
        "4. Write a code to check if two given strings are anagrams of each other.\n",
        "5. Write a code to find all occurrences of a given substring within another string.\n",
        "\n",
        "\n"
      ],
      "metadata": {
        "id": "z0peSM7RcC_k"
      }
    },
    {
      "cell_type": "code",
      "execution_count": 2,
      "metadata": {
        "id": "cr_4O1_EYYl-"
      },
      "outputs": [],
      "source": [
        "#1. Reverse a string\n",
        "\n",
        "def reverse_string(s):\n",
        "    return s[::-1]\n",
        "\n",
        "#2. Count the number of vowels in a string\n",
        "\n",
        "def count_vowels(s):\n",
        "    return sum(1 for char in s.lower() if char in 'aeiou')\n",
        "\n",
        "#3. Check if a given string is a palindrome\n",
        "\n",
        "def is_palindrome(s):\n",
        "    return s == s[::-1]\n",
        "\n",
        "#4. Check if two given strings are anagrams\n",
        "\n",
        "def are_anagrams(s1, s2):\n",
        "    return sorted(s1) == sorted(s2)\n",
        "\n",
        "#5. Find all occurrences of a given substring within another string\n",
        "\n",
        "def find_substring_occurrences(s, sub):\n",
        "    return [i for i in range(len(s)) if s.startswith(sub, i)]\n",
        "\n"
      ]
    },
    {
      "cell_type": "markdown",
      "source": [
        "6. Write a code to perform basic string compression using the counts of repeated characters.\n",
        "7. Write a code to determine if a string has all unique characters.\n",
        "8. Write a code to convert a given string to uppercase or lowercase.\n",
        "9. Write a code to count the number of words in a string.\n",
        "10. Write a code to concatenate two strings without using the + operator."
      ],
      "metadata": {
        "id": "qrrypUAHcLLe"
      }
    },
    {
      "cell_type": "code",
      "source": [
        "#6. Perform basic string compression using the counts of repeated characters\n",
        "\n",
        "def compress_string(s):\n",
        "    if not s:\n",
        "        return \"\"\n",
        "    compressed = []\n",
        "    count = 1\n",
        "    for i in range(1, len(s)):\n",
        "        if s[i] == s[i - 1]:\n",
        "            count += 1\n",
        "        else:\n",
        "            compressed.append(s[i - 1] + str(count))\n",
        "            count = 1\n",
        "    compressed.append(s[-1] + str(count))\n",
        "    return ''.join(compressed)\n",
        "\n",
        "#7. Determine if a string has all unique characters\n",
        "\n",
        "def has_unique_characters(s):\n",
        "    return len(set(s)) == len(s)\n",
        "\n",
        "#8. Convert a given string to uppercase or lowercase\n",
        "\n",
        "def convert_case(s, to_upper=True):\n",
        "    return s.upper() if to_upper else s.lower()\n",
        "\n",
        "#9. Count the number of words in a string\n",
        "\n",
        "def count_words(s):\n",
        "    return len(s.split())\n",
        "\n",
        "#10. Concatenate two strings without using the + operator\n",
        "\n",
        "def concatenate_strings(s1, s2):\n",
        "    return \"{}{}\".format(s1, s2)\n"
      ],
      "metadata": {
        "id": "BSWFJQ2obuAY"
      },
      "execution_count": null,
      "outputs": []
    },
    {
      "cell_type": "markdown",
      "source": [
        "11. Write a code to remove all occurrences of a specific element from a list.\n",
        "12. Implement a code to find the second largest number in a given list of integers.\n",
        "13. Create a code to count the occurrences of each element in a list and return a dictionary with elements as keys and their counts as values.\n",
        "14. Write a code to reverse a list in-place without using any built-in reverse functions.\n",
        "15. Implement a code to find and remove duplicates from a list while preserving the original order of elements."
      ],
      "metadata": {
        "id": "DIUXjPZBcVrU"
      }
    },
    {
      "cell_type": "code",
      "source": [
        "#11. Remove all occurrences of a specific element from a list\n",
        "\n",
        "def remove_element(lst, elem):\n",
        "    return [x for x in lst if x != elem]\n",
        "\n",
        "#12. Find the second largest number in a list\n",
        "\n",
        "def second_largest(lst):\n",
        "    unique_sorted = sorted(set(lst), reverse=True)\n",
        "    return unique_sorted[1] if len(unique_sorted) > 1 else None\n",
        "\n",
        "#13. Count occurrences of each element in a list\n",
        "\n",
        "def count_occurrences(lst):\n",
        "    counts = {}\n",
        "    for item in lst:\n",
        "        counts[item] = counts.get(item, 0) + 1\n",
        "    return counts\n",
        "\n",
        "#14. Reverse a list in-place (no built-in reverse)\n",
        "\n",
        "def reverse_list_in_place(lst):\n",
        "    left, right = 0, len(lst) - 1\n",
        "    while left < right:\n",
        "        lst[left], lst[right] = lst[right], lst[left]\n",
        "        left += 1\n",
        "        right -= 1\n",
        "    return lst\n",
        "\n",
        "#15. Remove duplicates while preserving order\n",
        "\n",
        "def remove_duplicates(lst):\n",
        "    seen = set()\n",
        "    result = []\n",
        "    for item in lst:\n",
        "        if item not in seen:\n",
        "            seen.add(item)\n",
        "            result.append(item)\n",
        "    return result\n",
        "\n",
        "\n"
      ],
      "metadata": {
        "id": "jSNRLDFRbubz"
      },
      "execution_count": 4,
      "outputs": []
    },
    {
      "cell_type": "markdown",
      "source": [
        "16. Create a code to check if a given list is sorted (either in ascending or descending order) or not.\n",
        "17. Write a code to merge two sorted lists into a single sorted list.\n",
        "18. Implement a code to find the intersection of two given lists.\n",
        "19. Create a code to find the union of two lists without duplicates.\n",
        "20. Write a code to shuffle a given list randomly without using any built-in shuffle functions."
      ],
      "metadata": {
        "id": "ZPmmFGHYcYSB"
      }
    },
    {
      "cell_type": "code",
      "source": [
        "#16. Check if a list is sorted (ascending or descending)\n",
        "\n",
        "def is_sorted(lst):\n",
        "    return lst == sorted(lst) or lst == sorted(lst, reverse=True)\n",
        "\n",
        "#17. Merge two sorted lists into a single sorted list\n",
        "\n",
        "def merge_sorted_lists(lst1, lst2):\n",
        "    result = []\n",
        "    i = j = 0\n",
        "    while i < len(lst1) and j < len(lst2):\n",
        "        if lst1[i] < lst2[j]:\n",
        "            result.append(lst1[i])\n",
        "            i += 1\n",
        "        else:\n",
        "            result.append(lst2[j])\n",
        "            j += 1\n",
        "    result.extend(lst1[i:])\n",
        "    result.extend(lst2[j:])\n",
        "    return result\n",
        "\n",
        "#18. Find the intersection of two given lists\n",
        "\n",
        "def intersection(lst1, lst2):\n",
        "    return list(set(lst1) & set(lst2))\n",
        "#19. Find the union of two lists without duplicates\n",
        "\n",
        "def union(lst1, lst2):\n",
        "    return list(set(lst1) | set(lst2))\n",
        "\n",
        "#20. Shuffle a list randomly (without built-in shuffle)\n",
        "\n",
        "import random\n",
        "def custom_shuffle(lst):\n",
        "    lst_copy = lst[:]\n",
        "    for i in range(len(lst_copy)-1, 0, -1):\n",
        "        j = random.randint(0, i)\n",
        "        lst_copy[i], lst_copy[j] = lst_copy[j], lst_copy[i]\n",
        "    return lst_copy"
      ],
      "metadata": {
        "id": "jX-OspPGbu3b"
      },
      "execution_count": 3,
      "outputs": []
    },
    {
      "cell_type": "markdown",
      "source": [
        "21. Write a code that takes two tuples as input and returns a new tuple containing elements that are common to both input tuples.\n",
        "22. Create a code that prompts the user to enter two sets of integers separated by commas. Then, print the intersection of these two sets.\n",
        "23. Write a code to concatenate two tuples. The function should take two tuples as input and return a new tuple containing elements from both input tuples.\n",
        "24. Develop a code that prompts the user to input two sets of strings. Then, print the elements that are present in the first set but not in the second set.\n",
        "\n",
        "25. Create a code that takes a tuple and two integers as input. The function should return a new tuple containing elements from the original tuple within the specified range of indices."
      ],
      "metadata": {
        "id": "TjbZio6dce9K"
      }
    },
    {
      "cell_type": "code",
      "source": [
        "#21. Return a new tuple containing elements common to two input tuples\n",
        "\n",
        "def common_elements(t1, t2):\n",
        "    return tuple(set(t1) & set(t2))\n",
        "\n",
        "#22. Prompt user for two sets of integers and print their intersection\n",
        "\n",
        "def prompt_and_intersect():\n",
        "    set1 = set(map(int, input(\"Enter first set of integers (comma-separated): \").split(',')))\n",
        "    set2 = set(map(int, input(\"Enter second set of integers (comma-separated): \").split(',')))\n",
        "    print(\"Intersection:\", set1 & set2)\n",
        "\n",
        "#23. Concatenate two tuples and return a new tuple\n",
        "\n",
        "def concatenate_tuples(t1, t2):\n",
        "    return t1 + t2\n",
        "\n",
        "#24. Print elements present in the first set but not in the second\n",
        "\n",
        "def diff_sets(s1, s2):\n",
        "    return s1 - s2\n",
        "\n",
        "#25. Return a new tuple within specified index range\n",
        "\n",
        "def slice_tuple(t, start, end):\n",
        "    return t[start:end]"
      ],
      "metadata": {
        "id": "d4OU1-Khd37W"
      },
      "execution_count": 5,
      "outputs": []
    },
    {
      "cell_type": "markdown",
      "source": [
        "26. Write a code that prompts the user to input two sets of characters. Then, print the union of these two sets.\n",
        "\n",
        "27. Develop a code that takes a tuple of integers as input. The function should return the maximum and minimum values from the tuple using tuple unpacking.\n",
        "\n",
        "28. Create a code that defines two sets of integers. Then, print the union, intersection, and difference of these two sets.\n",
        "\n",
        "29. Write a code that takes a tuple and an element as input. The function should return the count of occurrences of the given element in the tuple.\n",
        "\n",
        "30. Develop a code that prompts the user to input two sets of strings. Then, print the symmetric difference of these two sets."
      ],
      "metadata": {
        "id": "kQGwoCyHd4W5"
      }
    },
    {
      "cell_type": "code",
      "source": [
        "#26. Print the union of two sets of characters\n",
        "\n",
        "def union_chars(s1, s2):\n",
        "    return s1 | s2\n",
        "#27. Return max and min values using tuple unpacking\n",
        "\n",
        "def max_min(t):\n",
        "    return max(*t), min(*t)\n",
        "#28. Print union, intersection, and difference of two sets\n",
        "\n",
        "def set_operations(s1, s2):\n",
        "    return s1 | s2, s1 & s2, s1 - s2\n",
        "#29. Count occurrences of an element in a tuple\n",
        "\n",
        "def count_element(t, elem):\n",
        "    return t.count(elem)\n",
        "\n",
        "#30. Print symmetric difference of two string set\n",
        "\n",
        "def symmetric_diff(s1, s2):\n",
        "    return s1 ^ s2"
      ],
      "metadata": {
        "id": "YdU3nkMmd40E"
      },
      "execution_count": null,
      "outputs": []
    },
    {
      "cell_type": "markdown",
      "source": [
        "31. Write a code that takes a list of words as input and returns a dictionary where the keys are unique words and the values are the frequencies of those words in the input list.\n",
        "\n",
        "32. Write a code that takes two dictionaries as input and merges them into a single dictionary. If there are common keys, the values should be added together.\n",
        "\n",
        "33. Write a code to access a value in a nested dictionary. The function should take the dictionary and a list of keys as input, and return the corresponding value. If any of the keys do not exist in the dictionary, the function should return None.\n",
        "\n",
        "34. Write a code that takes a dictionary as input and returns a sorted version of it based on the values. You can choose whether to sort in ascending or descending order.\n",
        "\n",
        "35. Write a code that inverts a dictionary, swapping keys and values. Ensure that the inverted dictionary correctly handles cases where multiple keys have the same value by storing the keys as a list in the inverted dictionary."
      ],
      "metadata": {
        "id": "Ral72nJNd5Z0"
      }
    },
    {
      "cell_type": "code",
      "source": [
        "#31. Return word frequency dictionary\n",
        "\n",
        "def word_frequency(words):\n",
        "    freq = {}\n",
        "    for word in words:\n",
        "        freq[word] = freq.get(word, 0) + 1\n",
        "    return freq\n",
        "\n",
        "#32. Merge two dictionaries; add values for common keys\n",
        "\n",
        "def merge_dicts(d1, d2):\n",
        "    merged = d1.copy()\n",
        "    for k, v in d2.items():\n",
        "        merged[k] = merged.get(k, 0) + v\n",
        "    return merged\n",
        "\n",
        "#33. Access value in a nested dictionary\n",
        "\n",
        "def get_nested_value(d, keys):\n",
        "    for key in keys:\n",
        "        if isinstance(d, dict) and key in d:\n",
        "            d = d[key]\n",
        "        else:\n",
        "            return None\n",
        "    return d\n",
        "#34. Sort dictionary by values (ascending/descending)\n",
        "\n",
        "def sort_dict_by_value(d, descending=False):\n",
        "    return dict(sorted(d.items(), key=lambda x: x[1], reverse=descending))\n",
        "\n",
        "#35. Invert a dictionary (values → keys), handle duplicates\n",
        "\n",
        "def invert_dict(d):\n",
        "    inverted = {}\n",
        "    for k, v in d.items():\n",
        "        if v not in inverted:\n",
        "            inverted[v] = [k]\n",
        "        else:\n",
        "            inverted[v].append(k)\n",
        "    return inverted"
      ],
      "metadata": {
        "id": "r3ry7zBod50j"
      },
      "execution_count": 6,
      "outputs": []
    }
  ]
}