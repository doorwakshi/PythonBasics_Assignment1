{
  "nbformat": 4,
  "nbformat_minor": 0,
  "metadata": {
    "colab": {
      "provenance": []
    },
    "kernelspec": {
      "name": "python3",
      "display_name": "Python 3"
    },
    "language_info": {
      "name": "python"
    }
  },
  "cells": [
    {
      "cell_type": "markdown",
      "source": [
        "1. What is the difference between a function and a method in Python?\n",
        "\n",
        "Ans: A function is a block of reusable code that performs a specific task and is defined using the def keyword. It is independent and can be called anywhere in the code.\n",
        "\n",
        "A method is a function that is associated with an object and is called on that object. Methods are defined inside a class and operate on the instance of the class.\n",
        "\n",
        "Example:"
      ],
      "metadata": {
        "id": "2jj1ZoRtJSw7"
      }
    },
    {
      "cell_type": "code",
      "source": [
        "# Function\n",
        "def greet(name):\n",
        "    return f\"Hello, {name}!\"\n",
        "\n",
        "# Method inside a class\n",
        "class Person:\n",
        "    def __init__(self, name):\n",
        "        self.name = name\n",
        "\n",
        "    def greet(self):  # Method\n",
        "        return f\"Hello, {self.name}!\"\n",
        "\n",
        "p = Person(\"Alice\")\n",
        "print(greet(\"Bob\"))  # Calling function\n",
        "print(p.greet())  # Calling method\n"
      ],
      "metadata": {
        "colab": {
          "base_uri": "https://localhost:8080/"
        },
        "id": "Anug7JOULrok",
        "outputId": "f53f9b26-ba1a-458a-b312-9d85d4bec354"
      },
      "execution_count": 1,
      "outputs": [
        {
          "output_type": "stream",
          "name": "stdout",
          "text": [
            "Hello, Bob!\n",
            "Hello, Alice!\n"
          ]
        }
      ]
    },
    {
      "cell_type": "markdown",
      "source": [
        "2. Explain the concept of function arguments and parameters in Python.\n",
        "\n",
        "Ans: Parameters are the variables listed in the function definition.\n",
        "\n",
        "Arguments are the actual values passed to the function when calling it."
      ],
      "metadata": {
        "id": "iB2DBb-uJS0Y"
      }
    },
    {
      "cell_type": "code",
      "source": [
        "def add(a, b):  # a and b are parameters\n",
        "    return a + b\n",
        "\n",
        "print(add(5, 3))  # 5 and 3 are arguments\n"
      ],
      "metadata": {
        "colab": {
          "base_uri": "https://localhost:8080/"
        },
        "id": "jlHWNqchL7Iq",
        "outputId": "275cf60f-a584-46c1-e951-355c3619ca8f"
      },
      "execution_count": 2,
      "outputs": [
        {
          "output_type": "stream",
          "name": "stdout",
          "text": [
            "8\n"
          ]
        }
      ]
    },
    {
      "cell_type": "markdown",
      "source": [
        "3. What are the different ways to define and call a function in Python?\n",
        "\n",
        "Ans: Defining a function: Using the def keyword.\n",
        "\n",
        "Calling a function: Using its name followed by parentheses.\n",
        "\n",
        "Ways to define a function:"
      ],
      "metadata": {
        "id": "hxIG4zYlJS8u"
      }
    },
    {
      "cell_type": "code",
      "source": [
        "# 1. Regular function\n",
        "def add(a, b):\n",
        "    return a + b\n",
        "\n",
        "# 2. Lambda function (anonymous function)\n",
        "add_lambda = lambda a, b: a + b\n"
      ],
      "metadata": {
        "id": "8Wqi1osML8Qe"
      },
      "execution_count": 3,
      "outputs": []
    },
    {
      "cell_type": "markdown",
      "source": [
        "Ways to call a function:"
      ],
      "metadata": {
        "id": "_86G64hsJS_d"
      }
    },
    {
      "cell_type": "code",
      "source": [
        "print(add(2, 3))  # Regular function call\n",
        "print(add_lambda(2, 3))  # Lambda function call\n"
      ],
      "metadata": {
        "colab": {
          "base_uri": "https://localhost:8080/"
        },
        "id": "qIlh9a_-L8_F",
        "outputId": "789b9931-bdbd-434f-e79c-a83d6c5be90d"
      },
      "execution_count": 4,
      "outputs": [
        {
          "output_type": "stream",
          "name": "stdout",
          "text": [
            "5\n",
            "5\n"
          ]
        }
      ]
    },
    {
      "cell_type": "markdown",
      "source": [
        "4. What is the purpose of the 'return' statement in a Python function?\n",
        "\n",
        "Ans: The return statement is used to send a value from a function back to the caller. Without return, the function returns None by default.\n",
        "\n",
        "Example:"
      ],
      "metadata": {
        "id": "sEtts2eyJTCP"
      }
    },
    {
      "cell_type": "code",
      "source": [
        "def square(n):\n",
        "    return n * n\n",
        "\n",
        "result = square(4)\n",
        "print(result)  # Output: 16\n"
      ],
      "metadata": {
        "id": "-nw7xzPaNGCx"
      },
      "execution_count": null,
      "outputs": []
    },
    {
      "cell_type": "markdown",
      "source": [
        "5. What are iterators in Python and how do they differ from iterables?\n",
        "\n",
        "Ans: Iterable: Any object that can return an iterator (e.g., list, tuple, string).\n",
        "\n",
        "Iterator: An object with __iter__() and __next__() methods.\n",
        "Example:"
      ],
      "metadata": {
        "id": "cvxTIuZFJTFD"
      }
    },
    {
      "cell_type": "code",
      "source": [
        "nums = [1, 2, 3]  # Iterable\n",
        "it = iter(nums)  # Iterator\n",
        "\n",
        "print(next(it))  # Output: 1\n",
        "print(next(it))  # Output: 2\n"
      ],
      "metadata": {
        "colab": {
          "base_uri": "https://localhost:8080/"
        },
        "id": "WeWv-PJ0NSVj",
        "outputId": "9290b8df-48bc-4ae5-da53-b8bb03dd61b2"
      },
      "execution_count": 5,
      "outputs": [
        {
          "output_type": "stream",
          "name": "stdout",
          "text": [
            "1\n",
            "2\n"
          ]
        }
      ]
    },
    {
      "cell_type": "markdown",
      "source": [
        "6. Explain the concept of generators in Python and how they are defined.\n",
        "\n",
        "Ans: A generator is a special type of iterator that yields values using the yield keyword instead of return. It allows lazy evaluation and saves memory.\n",
        "\n",
        "Example:"
      ],
      "metadata": {
        "id": "DbaXpLDYJTHy"
      }
    },
    {
      "cell_type": "code",
      "source": [
        "def count_up_to(n):\n",
        "    count = 1\n",
        "    while count <= n:\n",
        "        yield count\n",
        "        count += 1\n",
        "\n",
        "gen = count_up_to(3)\n",
        "print(next(gen))  # Output: 1\n",
        "print(next(gen))  # Output: 2\n"
      ],
      "metadata": {
        "colab": {
          "base_uri": "https://localhost:8080/"
        },
        "id": "YkP6jAgQNfij",
        "outputId": "734a9562-d9a9-4abd-cd87-9a97017b2b7f"
      },
      "execution_count": 6,
      "outputs": [
        {
          "output_type": "stream",
          "name": "stdout",
          "text": [
            "1\n",
            "2\n"
          ]
        }
      ]
    },
    {
      "cell_type": "markdown",
      "source": [
        "7. What are the advantages of using generators over regular functions?\n",
        "\n",
        "Ans: Memory-efficient: Generates values lazily without storing them.\n",
        "\n",
        "Faster execution: Avoids storing intermediate results in memory.\n",
        "\n",
        "Simplifies code: No need to maintain state manually.\n"
      ],
      "metadata": {
        "id": "ZcCEX7IkJTKi"
      }
    },
    {
      "cell_type": "markdown",
      "source": [
        "8. What is a lambda function in Python and when is it typically used?\n",
        "\n",
        "Ans: A lambda function is an anonymous function defined using the lambda keyword.\n",
        "\n",
        "It is used for short, simple operations.\n",
        "\n",
        "Example:"
      ],
      "metadata": {
        "id": "qhTc03yrJTNO"
      }
    },
    {
      "cell_type": "code",
      "source": [
        "square = lambda x: x * x\n",
        "print(square(5))  # Output: 25\n"
      ],
      "metadata": {
        "colab": {
          "base_uri": "https://localhost:8080/"
        },
        "id": "vzZorwtmN2OW",
        "outputId": "3f894fca-7b60-4e5e-d549-3a9ad70bfc3f"
      },
      "execution_count": 7,
      "outputs": [
        {
          "output_type": "stream",
          "name": "stdout",
          "text": [
            "25\n"
          ]
        }
      ]
    },
    {
      "cell_type": "markdown",
      "source": [
        "9. Explain the purpose and usage of the 'map()' function in Python.\n",
        "\n",
        "Ans: The map() function applies a given function to each item in an iterable (such as a list, tuple, or set) and returns a map object (iterator) containing the results.\n",
        "\n",
        "Syntax:"
      ],
      "metadata": {
        "id": "kGEXvDCMJTPz"
      }
    },
    {
      "cell_type": "code",
      "source": [
        "map(function, iterable)\n"
      ],
      "metadata": {
        "id": "-pID_39EOx-k"
      },
      "execution_count": null,
      "outputs": []
    },
    {
      "cell_type": "markdown",
      "source": [
        "function → A function that will be applied to each item in the iterable.\n",
        "\n",
        "iterable → The iterable whose elements will be processed."
      ],
      "metadata": {
        "id": "dB72-ro7QZ5L"
      }
    },
    {
      "cell_type": "code",
      "source": [
        "#Example1: Squaring a List of Numbers\n",
        "nums = [1, 2, 3]\n",
        "squared = list(map(lambda x: x ** 2, nums))\n",
        "print(squared)  # Output: [1, 4, 9]\n"
      ],
      "metadata": {
        "colab": {
          "base_uri": "https://localhost:8080/"
        },
        "id": "zKHBcCSxOEeL",
        "outputId": "4ae9354f-0b21-4766-e4ae-c0640fc7b43f"
      },
      "execution_count": 8,
      "outputs": [
        {
          "output_type": "stream",
          "name": "stdout",
          "text": [
            "[1, 4, 9]\n"
          ]
        }
      ]
    },
    {
      "cell_type": "code",
      "source": [
        "#Example2: Converting a List of Strings to Uppercase\n",
        "names = [\"alice\", \"bob\", \"charlie\"]\n",
        "uppercase_names = list(map(str.upper, names))\n",
        "\n",
        "print(uppercase_names)  # Output: ['ALICE', 'BOB', 'CHARLIE']\n"
      ],
      "metadata": {
        "colab": {
          "base_uri": "https://localhost:8080/"
        },
        "id": "GVmHu3AOQURI",
        "outputId": "14dc3605-f5c2-4722-fc81-99fb7fa7be80"
      },
      "execution_count": 9,
      "outputs": [
        {
          "output_type": "stream",
          "name": "stdout",
          "text": [
            "['ALICE', 'BOB', 'CHARLIE']\n"
          ]
        }
      ]
    },
    {
      "cell_type": "markdown",
      "source": [
        "10. What is the difference between 'map()', 'reduce()', and 'filter()' functions in Python?\n",
        "\n",
        "Ans: map(): Applies a function to each element.\n",
        "\n",
        "filter(): Filters elements based on a condition.\n",
        "\n",
        "reduce(): Performs a cumulative computation on elements.\n",
        "\n",
        "Example:"
      ],
      "metadata": {
        "id": "FbFLlTnjJTSl"
      }
    },
    {
      "cell_type": "code",
      "source": [
        "from functools import reduce\n",
        "\n",
        "nums = [1, 2, 3, 4]\n",
        "\n",
        "# map example\n",
        "squared = list(map(lambda x: x ** 2, nums))\n",
        "\n",
        "# filter example\n",
        "evens = list(filter(lambda x: x % 2 == 0, nums))\n",
        "\n",
        "# reduce example\n",
        "sum_all = reduce(lambda x, y: x + y, nums)\n",
        "\n",
        "print(squared)\n",
        "print(evens)\n",
        "print(sum_all)\n"
      ],
      "metadata": {
        "colab": {
          "base_uri": "https://localhost:8080/"
        },
        "id": "C8KdZVX8OUSa",
        "outputId": "47848bf2-60c0-48bf-8cfe-1e71e6206e46"
      },
      "execution_count": 11,
      "outputs": [
        {
          "output_type": "stream",
          "name": "stdout",
          "text": [
            "[1, 4, 9, 16]\n",
            "[2, 4]\n",
            "10\n"
          ]
        }
      ]
    },
    {
      "cell_type": "markdown",
      "source": [
        "11. Using pen & paper, write the internal mechanism for sum operation using reduce function on this given list: [47, 11, 42, 13];\n",
        "\n",
        "Ans: Using reduce(), the sum operation works as follows:\n",
        "\n",
        "Initial list: [47, 11, 42, 13]\n",
        "\n",
        "First step: 47 + 11 = 58\n",
        "\n",
        "Second step: 58 + 42 = 100\n",
        "\n",
        "Third step: 100 + 13 = 113\n",
        "\n",
        "Final sum: 113\n",
        "\n",
        "Python implementation:"
      ],
      "metadata": {
        "id": "5glzquMDJTV5"
      }
    },
    {
      "cell_type": "code",
      "source": [
        "from functools import reduce\n",
        "\n",
        "nums = [47, 11, 42, 13]\n",
        "sum_result = reduce(lambda x, y: x + y, nums)\n",
        "\n",
        "print(sum_result)\n"
      ],
      "metadata": {
        "colab": {
          "base_uri": "https://localhost:8080/"
        },
        "id": "tLd_3i5wQ_am",
        "outputId": "0faf1935-eafa-4275-8859-d8f7245e6779"
      },
      "execution_count": 10,
      "outputs": [
        {
          "output_type": "stream",
          "name": "stdout",
          "text": [
            "113\n"
          ]
        }
      ]
    }
  ]
}