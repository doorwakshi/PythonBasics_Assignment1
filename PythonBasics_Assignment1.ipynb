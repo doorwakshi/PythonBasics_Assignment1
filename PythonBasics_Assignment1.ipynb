{
  "nbformat": 4,
  "nbformat_minor": 0,
  "metadata": {
    "colab": {
      "provenance": []
    },
    "kernelspec": {
      "name": "python3",
      "display_name": "Python 3"
    },
    "language_info": {
      "name": "python"
    }
  },
  "cells": [
    {
      "cell_type": "markdown",
      "source": [
        "Q. Explain the key features of Python that make it a popular choice for programming.\n",
        "\n",
        "\n",
        "Ans: Python is popular because it's:\n",
        "\n",
        "Easy to Learn – Simple syntax like plain English.\n",
        "\n",
        "Versatile – Used for web, data science, AI, automation, and more.\n",
        "\n",
        "Huge Community – Lots of support, tutorials, and libraries.\n",
        "\n",
        "Readable Code – Easy to understand.\n",
        "\n",
        "Cross-Platform – Works on Windows, Mac, and Linux.\n",
        "\n",
        "Lots of Libraries – Ready-made tools for faster coding."
      ],
      "metadata": {
        "id": "tm4eDepqjbKN"
      }
    },
    {
      "cell_type": "markdown",
      "source": [
        "Q. Describe the role of predefined keywords in Python and provide examples of how they are used in a program.\n",
        "\n",
        "Ans: Predefined keywords in Python are special reserved words that have specific meanings and cannot be used as variable names.\n",
        "They help define the structure and logic of a program.\n",
        "\n",
        "Role of Keywords:\n",
        "Control Flow – Manage loops and conditions (e.g., if, while).\n",
        "\n",
        "Function Definition – Create and call functions (def, return).\n",
        "\n",
        "Class & Object – Support object-oriented programming (class, self).\n",
        "\n",
        "Logical & Boolean Operations – Work with conditions (True, False, and, or, not).\n",
        "\n",
        "Example Usage: Keywords like if check conditions, for runs loops, and def defines functions. They make Python programs structured and readable\n"
      ],
      "metadata": {
        "id": "Hue9o_EzhcJj"
      }
    },
    {
      "cell_type": "markdown",
      "source": [
        "Q. Compare and contrast mutable and immutable objects in Python with examples.\n",
        "\n",
        "Ans: In Python, mutable objects are those that can be changed after creation, while immutable objects cannot be modified once created. Mutable objects include lists, dictionaries, and sets, meaning you can add, remove, or update their elements.\n",
        "\n",
        "On the other hand, immutable objects like strings, tuples, and numbers do not allow any modifications—any change creates a new object instead of altering the original one.\n",
        "\n",
        "Example Difference:\n",
        "\n",
        "Mutable (List): You can modify a list after creation: add, remove, or change elements.\n",
        "\n",
        "Immutable (Tuple): Once a tuple is created, you cannot change its values. If you try to update it, Python will create a new tuple instead."
      ],
      "metadata": {
        "id": "x3A4tbBFjDJO"
      }
    },
    {
      "cell_type": "markdown",
      "source": [
        "Q. Discuss the different types of operators in python and provide examples of how they are used.\n",
        "\n",
        "Ans: Python has several types of operators used for different operations in programming.\n",
        "\n",
        "Arithmetic Operators – Perform basic mathematical operations.\n",
        "\n",
        "+(Addition), - (Subtraction), * (Multiplication), / (Division), % (Modulus)\n",
        "\n",
        "Example: 10 + 5 gives 15\n",
        "\n",
        "Comparison Operators – Compare values and return True or False.\n",
        "\n",
        "== (Equal), != (Not Equal), > (Greater), < (Less)\n",
        "\n",
        "Example: 10 > 5 gives True\n",
        "\n",
        "Logical Operators – Combine multiple conditions.\n",
        "\n",
        "and, or, not\n",
        "\n",
        "Example: (10 > 5) and (5 > 3) gives True.\n",
        "\n",
        "Assignment Operators – Assign values to variables.\n",
        "\n",
        "= (Assign), += (Add and assign), -=, *=, /=\n",
        "\n",
        "Example: x = 5; x += 3 makes x = 8\n",
        "\n",
        "Bitwise Operators – Work at the binary level.\n",
        "\n",
        "& (AND), | (OR), ^ (XOR), ~ (NOT), << (Left shift), >> (Right shift)\n",
        "\n",
        "Identity Operators – Check if two objects are the same.\n",
        "\n",
        "is, is not\n",
        "\n",
        "Example: x is y checks if x and y refer to the same object.\n",
        "\n",
        "Membership Operators – Check if a value exists in a sequence.\n",
        "\n",
        "in, not in\n",
        "\n",
        "Example: 'a' in 'apple' gives True."
      ],
      "metadata": {
        "id": "lZWDJ8-Gkzag"
      }
    },
    {
      "cell_type": "markdown",
      "source": [
        "Q. Explain the concept of type casting in Python with examples.\n",
        "\n",
        "Ans: Type casting in Python refers to converting one data type into another. It is useful when you need to perform operations between different types or ensure data is in the correct format.\n",
        "\n",
        "There are two main types of type casting:\n",
        "\n",
        "Implicit Type Casting (Automatic) – Python automatically converts a smaller data type to a larger data type if needed.\n",
        "\n",
        "Example:"
      ],
      "metadata": {
        "id": "f9xnlW0Ikz5l"
      }
    },
    {
      "cell_type": "code",
      "source": [
        "x = 5       # integer\n",
        "y = 2.5     # float\n",
        "result = x + y  # Python automatically converts 5 to float\n",
        "print(result)"
      ],
      "metadata": {
        "colab": {
          "base_uri": "https://localhost:8080/"
        },
        "id": "kTnFe8IDqItN",
        "outputId": "306c73e8-014d-4982-d43a-1f25506abcd6"
      },
      "execution_count": 1,
      "outputs": [
        {
          "output_type": "stream",
          "name": "stdout",
          "text": [
            "7.5\n"
          ]
        }
      ]
    },
    {
      "cell_type": "markdown",
      "source": [
        "Explicit Type Casting (Manual) – You manually convert one type to another using functions like int(), float(), str(), etc.\n",
        "\n",
        "Example:"
      ],
      "metadata": {
        "id": "0quuaxfEqZpK"
      }
    },
    {
      "cell_type": "code",
      "source": [
        "x = \"10\"    # string\n",
        "y = int(x)  # converting string to integer\n",
        "print(y)"
      ],
      "metadata": {
        "colab": {
          "base_uri": "https://localhost:8080/"
        },
        "id": "UJod7EiYqdWy",
        "outputId": "845738fd-32b5-4f6b-af09-7df88f6fab56"
      },
      "execution_count": 2,
      "outputs": [
        {
          "output_type": "stream",
          "name": "stdout",
          "text": [
            "10\n"
          ]
        }
      ]
    },
    {
      "cell_type": "markdown",
      "source": [
        "\n",
        "Q. How do conditional statements work in Python?Illustrate with examples.\n",
        "\n",
        "Ans:Conditional statements in Python allow you to execute certain blocks of code based on whether a condition is True or False. They help in decision-making processes in the program.\n",
        "\n",
        "Types of Conditional Statements:\n",
        "\n",
        "1. if Statement – Executes the block of code if the condition is True.\n",
        "\n",
        "2. else Statement – Executes the block of code if the condition is False.\n",
        "\n",
        "3. elif Statement – Checks multiple conditions. If the if condition is False, it checks the elif condition.\n",
        "\n",
        "\n",
        "\n"
      ],
      "metadata": {
        "id": "gfNnjEILk0ZG"
      }
    },
    {
      "cell_type": "markdown",
      "source": [
        "Q. Describe the different types of loops in Python and their use cases with examples.\n",
        "\n",
        "Ans: In Python, loops are used to repeatedly execute a block of code. There are two main types of loops:\n",
        "\n",
        "1. for Loop\n",
        "\n",
        "The for loop is used to iterate over a sequence (like a list, string, or range) and execute a block of code multiple times.\n",
        "\n",
        "Use Case: When you know the number of iterations or need to loop through elements in a collection.\n",
        "\n",
        "Example:\n",
        "\n"
      ],
      "metadata": {
        "id": "-YgjK05Uk00M"
      }
    },
    {
      "cell_type": "code",
      "source": [
        "for i in range(5):  # Loops from 0 to 4\n",
        "    print(i)\n"
      ],
      "metadata": {
        "colab": {
          "base_uri": "https://localhost:8080/"
        },
        "id": "kI_j8mr_q8P4",
        "outputId": "d995f1cd-104a-419d-a7cd-5b609161784d"
      },
      "execution_count": 3,
      "outputs": [
        {
          "output_type": "stream",
          "name": "stdout",
          "text": [
            "0\n",
            "1\n",
            "2\n",
            "3\n",
            "4\n"
          ]
        }
      ]
    },
    {
      "cell_type": "markdown",
      "source": [
        "2. while Loop\n",
        "\n",
        "The while loop runs as long as the given condition is True. It’s useful when you don’t know the number of iterations in advance.\n",
        "\n",
        "Use Case: When the number of iterations depends on a condition.\n",
        "\n",
        "Example:\n"
      ],
      "metadata": {
        "id": "paEO5k5arALE"
      }
    },
    {
      "cell_type": "code",
      "source": [
        "i = 0\n",
        "while i < 5:\n",
        "    print(i)\n",
        "    i += 1  # Increment to avoid infinite loop"
      ],
      "metadata": {
        "colab": {
          "base_uri": "https://localhost:8080/"
        },
        "id": "cVn8hy63rDHt",
        "outputId": "485dada5-cb28-4e3c-b145-2a05ea31a5fa"
      },
      "execution_count": 4,
      "outputs": [
        {
          "output_type": "stream",
          "name": "stdout",
          "text": [
            "0\n",
            "1\n",
            "2\n",
            "3\n",
            "4\n"
          ]
        }
      ]
    }
  ]
}